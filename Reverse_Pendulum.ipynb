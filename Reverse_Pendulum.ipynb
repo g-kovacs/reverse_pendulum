{
  "nbformat": 4,
  "nbformat_minor": 0,
  "metadata": {
    "colab": {
      "name": "Reverse Pendulum.ipynb",
      "provenance": [],
      "include_colab_link": true
    },
    "kernelspec": {
      "name": "python3",
      "display_name": "Python 3"
    },
    "language_info": {
      "name": "python"
    }
  },
  "cells": [
    {
      "cell_type": "markdown",
      "metadata": {
        "id": "view-in-github",
        "colab_type": "text"
      },
      "source": [
        "<a href=\"https://colab.research.google.com/github/kovika98/reverse_pendulum/blob/dev/Reverse_Pendulum.ipynb\" target=\"_parent\"><img src=\"https://colab.research.google.com/assets/colab-badge.svg\" alt=\"Open In Colab\"/></a>"
      ]
    },
    {
      "cell_type": "code",
      "metadata": {
        "id": "Rk8hL_tH28ZZ"
      },
      "source": [
        "!rm -rf ./sample_data\n",
        "\n",
        "from dataclasses import dataclass\n",
        "import numpy as np\n"
      ],
      "execution_count": null,
      "outputs": []
    },
    {
      "cell_type": "markdown",
      "metadata": {
        "id": "9YhOUU1PvrYD"
      },
      "source": [
        "# Környezet implementációja :)\n",
        "## dataclassok\n"
      ]
    },
    {
      "cell_type": "code",
      "metadata": {
        "id": "EzCRxwBOrL6W"
      },
      "source": [
        "@dataclass\n",
        "class State:\n",
        "  w_G: float = 0.0\n",
        "  w_dG: float = 0.0\n",
        "  p_G: float = 0.0\n",
        "  p_dG: float = 0.0\n",
        "  c_X: float = 0.0\n",
        "  c_dX: float = 0.0\n",
        "\n",
        "@dataclass\n",
        "class Action:\n",
        "  torque1: float"
      ],
      "execution_count": null,
      "outputs": []
    },
    {
      "cell_type": "markdown",
      "metadata": {
        "id": "EdPGIXYwBSpj"
      },
      "source": [
        "## Env"
      ]
    },
    {
      "cell_type": "code",
      "metadata": {
        "id": "IdwH3-Mkz3Y_"
      },
      "source": [
        "class Environment(object):\n",
        "  # Cart data\n",
        "  mW = 0.1\n",
        "  mC = 1\n",
        "  mP = 0.1\n",
        "  lenP = 0.8\n",
        "  radW = 0.2\n",
        "  friction = 1\n",
        "\n",
        "  # Universal constants\n",
        "  g = 9.81\n",
        "\n",
        "  # Computed values\n",
        "  p_I = 1/3 * mP * (lenP ** 2)\n",
        "  w_I = 1/2 * mW * (radW ** 2)\n",
        "  mTot = mC + 2*mW + mP\n",
        "\n",
        "  def __init__(self, timeStep = 0.1):\n",
        "    self.dt = timeStep\n",
        "    self.state = self.reset()\n",
        "    super().__init__()\n",
        "\n",
        "  @property\n",
        "  def action_space(self):\n",
        "    pass\n",
        "\n",
        "  @property\n",
        "  def observation_space(self):\n",
        "    pass\n",
        "\n",
        "  @property\n",
        "  def observation_space_size(self):\n",
        "    pass\n",
        "\n",
        "  @property\n",
        "  def state(self):\n",
        "    pass\n",
        "\n",
        "  def step(self, action):\n",
        "    state.w_dG += self.dt * action.torque1\n",
        "\n",
        "    wheelForce = w_dG / radW\n",
        "    normalForce = mTot / 2 * g\n",
        "    F = max(wheelForce - normalForce * friction, 0)\n",
        "\n",
        "    # magic equations - friction neglected\n",
        "    _a = ( -1 * F - mP * 0.5 * lenP * (self.state.p_dG ** 2) * \\ \n",
        "          np.sin(self.state.p_G)) / mTot\n",
        "    _b = (4/3 - mP * (np.cos(self.state.p_g) ** 2) / mTot)\n",
        "\n",
        "    p_ddG = (g * np.sin(self.state.p_G) + np.cos(self.state.p_G) * _a) \\\n",
        "          / (0.5 * lenP * _b)\n",
        "\n",
        "    _c = (self.state.p_dG ** 2) * np.sin(self.state.p_G) - \\\n",
        "          p_ddG * np.cos(self.state.p_G)\n",
        "    c_ddX = (F + mP * 0.5 * lenP * _c) / mTot\n",
        "\n",
        "\n",
        "  def reset(self):\n",
        "    return State(p_dG = 0.1)\n",
        " \n",
        "    "
      ],
      "execution_count": null,
      "outputs": []
    }
  ]
}