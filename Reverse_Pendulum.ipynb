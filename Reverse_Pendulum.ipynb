{
  "nbformat": 4,
  "nbformat_minor": 0,
  "metadata": {
    "colab": {
      "name": "Reverse Pendulum.ipynb",
      "provenance": []
    },
    "kernelspec": {
      "name": "python3",
      "display_name": "Python 3"
    },
    "language_info": {
      "name": "python"
    }
  },
  "cells": [
    {
      "cell_type": "markdown",
      "metadata": {
        "id": "9YhOUU1PvrYD"
      },
      "source": [
        "# State dataclass implementációja :)\n"
      ]
    },
    {
      "cell_type": "code",
      "metadata": {
        "colab": {
          "base_uri": "https://localhost:8080/"
        },
        "id": "EzCRxwBOrL6W",
        "outputId": "71a0f84d-d999-4dd0-bcf0-972198dd8dc5"
      },
      "source": [
        "!rm -rf ./sample_data\n",
        "\n",
        "from dataclasses import dataclass\n",
        "\n",
        "@dataclass\n",
        "class Rotatable:\n",
        "  rotation: float \n",
        "  angular_mass: float\n",
        "  angular_momentum: float\n",
        "\n",
        "@dataclass\n",
        "class Cart(Rotatable):\n",
        "  position: float\n",
        "  idx: int\n",
        "  momentum: float\n",
        "  mass: float\n",
        "  leftWheel: Rotatable\n",
        "  rightWheel: Rotatable\n",
        "  pendulum: Rotatable\n",
        "\n",
        "@dataclass\n",
        "class State:\n",
        "  cart: Cart\n",
        "\n",
        "print(\"kacsa\")"
      ],
      "execution_count": null,
      "outputs": [
        {
          "output_type": "stream",
          "text": [
            "kacsa\n"
          ],
          "name": "stdout"
        }
      ]
    }
  ]
}