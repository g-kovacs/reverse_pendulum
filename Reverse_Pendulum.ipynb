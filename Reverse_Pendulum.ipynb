{
  "nbformat": 4,
  "nbformat_minor": 0,
  "metadata": {
    "colab": {
      "name": "Reverse Pendulum.ipynb",
      "provenance": [],
      "include_colab_link": true
    },
    "kernelspec": {
      "name": "python3",
      "display_name": "Python 3"
    },
    "language_info": {
      "name": "python"
    }
  },
  "cells": [
    {
      "cell_type": "markdown",
      "metadata": {
        "id": "view-in-github",
        "colab_type": "text"
      },
      "source": [
        "<a href=\"https://colab.research.google.com/github/kovika98/reverse_pendulum/blob/dev/Reverse_Pendulum.ipynb\" target=\"_parent\"><img src=\"https://colab.research.google.com/assets/colab-badge.svg\" alt=\"Open In Colab\"/></a>"
      ]
    },
    {
      "cell_type": "code",
      "metadata": {
        "id": "Rk8hL_tH28ZZ"
      },
      "source": [
        "!rm -rf ./sample_data\n",
        "\n",
        "from dataclasses import dataclass, replace as dt_replace\n",
        "import numpy as np\n",
        "from copy import copy\n"
      ],
      "execution_count": 7,
      "outputs": []
    },
    {
      "cell_type": "markdown",
      "metadata": {
        "id": "9YhOUU1PvrYD"
      },
      "source": [
        "# Környezet implementációja :)\n",
        "## dataclassok\n"
      ]
    },
    {
      "cell_type": "code",
      "metadata": {
        "id": "EzCRxwBOrL6W"
      },
      "source": [
        "@dataclass\n",
        "class State:\n",
        "  p_G: float = 0.0\n",
        "  p_dG: float = 0.0\n",
        "  c_X: float = 0.0\n",
        "  c_dX: float = 0.0\n",
        "\n",
        "@dataclass\n",
        "class Action:\n",
        "  torq: float"
      ],
      "execution_count": 2,
      "outputs": []
    },
    {
      "cell_type": "markdown",
      "metadata": {
        "id": "EdPGIXYwBSpj"
      },
      "source": [
        "## Env"
      ]
    },
    {
      "cell_type": "code",
      "metadata": {
        "id": "G_rZpxIw2g6r"
      },
      "source": [
        "import gym\n",
        "from gym import error, spaces, utils\n",
        "from gym.utils import seeding\n",
        "\n",
        "class DoubleCartPoleEnv(gym.Env):\n",
        "  @property\n",
        "  def action_space(self):\n",
        "    return self._action_space\n",
        "\n",
        "  @property\n",
        "  def observation_space(self):\n",
        "    return self._observation_space\n",
        "\n",
        "  def __init__(self, timeStep = 0.1):\n",
        "    # Boundaries\n",
        "    self.maxX = 3\n",
        "    self.maxG = 0.8\n",
        "    self.maxT = 1\n",
        "\n",
        "    # Cart data\n",
        "    self.mC = 1\n",
        "    self.mP = 0.1\n",
        "    self.lenP = 0.8\n",
        "    self.radW = 0.2\n",
        "    self.friction = 1\n",
        "    self.coefR = 0.001\n",
        "\n",
        "    # Universal constants\n",
        "    self.g = 9.81\n",
        "\n",
        "    # Computed values\n",
        "    self.p_I = 1/3 * self.mP * (self.lenP ** 2)\n",
        "    self.mTot = self.mC + self.mP\n",
        "    self.dt = timeStep\n",
        "    self._action_space = spaces.Box(-self.maxT, self.maxT, shape = (1,))\n",
        "    boundary = np.array([self.maxG*2,\n",
        "                         np.finfo(np.float32).max,\n",
        "                         self.maxX*2,\n",
        "                         np.finfo(np.float32).max],\n",
        "                        dtype=np.float32)\n",
        "    self._observation_space = spaces.Box(-boundary, boundary, dtype=np.float32)\n",
        "    self.reset()\n",
        "\n",
        "  def step(self, action):\n",
        "    F = (2.0*action - self.coefR*self.mTot*self.g/2.0)/self.radW\n",
        "\n",
        "    _a = ( -1 * F - self.mP * 0.5 * self.lenP * (self.state.p_dG ** 2) * \\\n",
        "          np.sin(self.state.p_G)) / self.mTot\n",
        "    _b = (4/3 - self.mP * (np.cos(self.state.p_g) ** 2) / self.mTot)\n",
        "\n",
        "    p_ddG = (self.g * np.sin(self.state.p_G) + np.cos(self.state.p_G) * _a) \\\n",
        "          / (0.5 * self.lenP * _b)\n",
        "\n",
        "    _c = (self.state.p_dG ** 2) * np.sin(self.state.p_G) - \\\n",
        "    p_ddG * np.cos(self.state.p_G)\n",
        "    c_ddX = (F + self.mP * 0.5 * self.lenP * _c) / self.mTot\n",
        "\n",
        "    self.state.c_dX += self.dt * c_ddX\n",
        "    self.state.c_X += self.dt * self.state.c_dX\n",
        "\n",
        "    self.state.p_dG += self.dt * p_ddG\n",
        "    self.state.p_G += self.dt * self.state.p_dG\n",
        "\n",
        "    terminate = False\n",
        "    if np.abs(self.state.p_G) > self.maxG or np.abs(self.state.c_X) > self.maxX:\n",
        "      terminate = True\n",
        "    return dt_replace(self.state), action, .0, terminate\n",
        "\n",
        "  def reset(self):\n",
        "    self.state = State(p_dG = 0.1)\n",
        "\n",
        "  def render(self, mode='human'):\n",
        "    pass\n",
        "\n",
        "  def close(self):\n",
        "    pass\n"
      ],
      "execution_count": 22,
      "outputs": []
    },
    {
      "cell_type": "code",
      "metadata": {
        "id": "yWqmYrhA9TKD",
        "outputId": "497e49d3-c5b4-45e6-d82d-ad4c46757b37",
        "colab": {
          "base_uri": "https://localhost:8080/"
        }
      },
      "source": [
        ""
      ],
      "execution_count": 44,
      "outputs": [
        {
          "output_type": "stream",
          "text": [
            "[-0.60460913]\n",
            "[1.6000000e+00 3.4028235e+38 6.0000000e+00 3.4028235e+38]\n",
            "[-1.6000000e+00 -3.4028235e+38 -6.0000000e+00 -3.4028235e+38]\n"
          ],
          "name": "stdout"
        },
        {
          "output_type": "execute_result",
          "data": {
            "text/plain": [
              "7"
            ]
          },
          "metadata": {
            "tags": []
          },
          "execution_count": 44
        }
      ]
    }
  ]
}