{
  "nbformat": 4,
  "nbformat_minor": 0,
  "metadata": {
    "colab": {
      "name": "Reverse Pendulum.ipynb",
      "provenance": []
    },
    "kernelspec": {
      "name": "python3",
      "display_name": "Python 3"
    },
    "language_info": {
      "name": "python"
    }
  },
  "cells": [
    {
      "cell_type": "code",
      "metadata": {
        "id": "Rk8hL_tH28ZZ"
      },
      "source": [
        "!rm -rf ./sample_data\n",
        "\n",
        "from dataclasses import dataclass\n",
        "import numpy as np\n"
      ],
      "execution_count": null,
      "outputs": []
    },
    {
      "cell_type": "markdown",
      "metadata": {
        "id": "9YhOUU1PvrYD"
      },
      "source": [
        "# Környezet implementációja :)\n",
        "## dataclassok\n"
      ]
    },
    {
      "cell_type": "code",
      "metadata": {
        "id": "EzCRxwBOrL6W"
      },
      "source": [
        "\n",
        "@dataclass\n",
        "class Rotatable:\n",
        "  rotation: float \n",
        "  angular_momentum: float\n",
        "\n",
        "@dataclass\n",
        "class Cart(Rotatable):\n",
        "  position: float\n",
        "  idx: int\n",
        "  momentum: float\n",
        "  wheel: Rotatable\n",
        "  pendulum: Rotatable\n",
        "\n",
        "@dataclass\n",
        "class State:\n",
        "  cart1: Cart\n",
        "\n",
        "@dataclass\n",
        "class Action:\n",
        "  torque1: float"
      ],
      "execution_count": 1,
      "outputs": []
    },
    {
      "cell_type": "markdown",
      "metadata": {
        "id": "EdPGIXYwBSpj"
      },
      "source": [
        "## Env"
      ]
    },
    {
      "cell_type": "code",
      "metadata": {
        "id": "IdwH3-Mkz3Y_"
      },
      "source": [
        "class Environment:\n",
        "  # Cart data\n",
        "  w_mass = 0.1\n",
        "  c_mass = 1\n",
        "  p_mass = 0.1\n",
        "  p_length = 0.8\n",
        "  w_radius = 0.2\n",
        "  friction = 1\n",
        "\n",
        "  # Universal constants\n",
        "  g = 9.81\n",
        "\n",
        "  # Computed values\n",
        "  p_angular_mass = 1/3 * p_mass * (p_length ** 2)\n",
        "  w_angular_mass = 1/2 * w_mass * (w_radius ** 2)\n",
        "  total_mass = c_mass + 2*w_mass + p_mass\n",
        "\n",
        "  def __init__(self, timeStep = 0.1, cartCount = 1):\n",
        "    self.dt = timeStep\n",
        "    self.cartCount = cartCount\n",
        "\n",
        "  def step(self, state, action):\n",
        "    state.cart1.wheel.angular_momentum += self.dt * action.torque1\n",
        "\n",
        "    wheelForce = state.cart1.wheel.angular_momentum / w_radius\n",
        "    pressingForce = totalMass / 2 * g\n",
        "    rotatingForce = max(wheelForce - pressingForce * friction, 0)\n",
        "\n",
        "    angularVelocity = rotatingForce * w_radius / w_angular_mass\n",
        "    state.cart1.wheel.rotation += angularVelocity * self.dt\n",
        "\n",
        "    state.cart1.momentum += 2 * rotatingForce\n",
        "    cVelocity = state.cart1.momentum / c_mass\n",
        "    state.cart1.position += self.dt * cVelocity\n",
        "\n",
        "    \n",
        "    "
      ],
      "execution_count": null,
      "outputs": []
    }
  ]
}